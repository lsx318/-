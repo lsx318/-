{
 "cells": [
  {
   "cell_type": "markdown",
   "id": "6ef8007a-bf3c-4b8f-b0b3-e1605283996e",
   "metadata": {},
   "source": [
    "大模型 视频理解"
   ]
  },
  {
   "cell_type": "markdown",
   "id": "0736cf88-c2f1-4404-852b-bf71c00056da",
   "metadata": {},
   "source": [
    "2e89b299d65e674c394e20535a08d1b1.hQiXuznqbmmLkaFI"
   ]
  },
  {
   "cell_type": "code",
   "execution_count": 5,
   "id": "4b7ee8a1-1fb3-4e94-9be0-a81409fd1ea5",
   "metadata": {},
   "outputs": [
    {
     "name": "stdout",
     "output_type": "stream",
     "text": [
      "Requirement already satisfied: python-dotenv in c:\\programdata\\anaconda3\\lib\\site-packages (1.0.1)\n",
      "Note: you may need to restart the kernel to use updated packages.\n"
     ]
    }
   ],
   "source": [
    "pip install python-dotenv"
   ]
  },
  {
   "cell_type": "code",
   "execution_count": 7,
   "id": "70f36181-54ac-423d-aea2-a603e171cf2b",
   "metadata": {},
   "outputs": [
    {
     "name": "stdout",
     "output_type": "stream",
     "text": [
      "Collecting zhipuai\n",
      "  Downloading zhipuai-2.1.5.20230904-py3-none-any.whl (104 kB)\n",
      "     ------------------------------------ 105.0/105.0 kB 337.1 kB/s eta 0:00:00\n",
      "Collecting pydantic<3.0,>=1.9.0\n",
      "  Downloading pydantic-2.9.2-py3-none-any.whl (434 kB)\n",
      "     -------------------------------------- 434.9/434.9 kB 1.1 MB/s eta 0:00:00\n",
      "Collecting cachetools>=4.2.2\n",
      "  Downloading cachetools-5.5.0-py3-none-any.whl (9.5 kB)\n",
      "Collecting pydantic-core>=2.14.6\n",
      "  Downloading pydantic_core-2.27.0-cp39-none-win_amd64.whl (2.0 MB)\n",
      "     ---------------------------------------- 2.0/2.0 MB 4.8 MB/s eta 0:00:00\n",
      "Collecting httpx>=0.23.0\n",
      "  Downloading httpx-0.27.2-py3-none-any.whl (76 kB)\n",
      "     ---------------------------------------- 76.4/76.4 kB ? eta 0:00:00\n",
      "Collecting pyjwt<2.9.0,>=2.8.0\n",
      "  Downloading PyJWT-2.8.0-py3-none-any.whl (22 kB)\n",
      "Requirement already satisfied: anyio in c:\\programdata\\anaconda3\\lib\\site-packages (from httpx>=0.23.0->zhipuai) (3.5.0)\n",
      "Requirement already satisfied: certifi in c:\\programdata\\anaconda3\\lib\\site-packages (from httpx>=0.23.0->zhipuai) (2022.9.14)\n",
      "Requirement already satisfied: idna in c:\\programdata\\anaconda3\\lib\\site-packages (from httpx>=0.23.0->zhipuai) (3.3)\n",
      "Collecting httpcore==1.*\n",
      "  Downloading httpcore-1.0.7-py3-none-any.whl (78 kB)\n",
      "     ---------------------------------------- 78.6/78.6 kB ? eta 0:00:00\n",
      "Requirement already satisfied: sniffio in c:\\programdata\\anaconda3\\lib\\site-packages (from httpx>=0.23.0->zhipuai) (1.2.0)\n",
      "Collecting h11<0.15,>=0.13\n",
      "  Downloading h11-0.14.0-py3-none-any.whl (58 kB)\n",
      "     ---------------------------------------- 58.3/58.3 kB 3.2 MB/s eta 0:00:00\n",
      "Collecting annotated-types>=0.6.0\n",
      "  Downloading annotated_types-0.7.0-py3-none-any.whl (13 kB)\n",
      "Requirement already satisfied: typing-extensions>=4.6.1 in c:\\programdata\\anaconda3\\lib\\site-packages (from pydantic<3.0,>=1.9.0->zhipuai) (4.12.2)\n",
      "Collecting pydantic-core>=2.14.6\n",
      "  Downloading pydantic_core-2.23.4-cp39-none-win_amd64.whl (1.9 MB)\n",
      "     ---------------------------------------- 1.9/1.9 MB 20.5 MB/s eta 0:00:00\n",
      "Installing collected packages: pyjwt, pydantic-core, h11, cachetools, annotated-types, pydantic, httpcore, httpx, zhipuai\n",
      "  Attempting uninstall: pyjwt\n",
      "    Found existing installation: PyJWT 2.4.0\n",
      "    Uninstalling PyJWT-2.4.0:\n",
      "      Successfully uninstalled PyJWT-2.4.0\n",
      "Successfully installed annotated-types-0.7.0 cachetools-5.5.0 h11-0.14.0 httpcore-1.0.7 httpx-0.27.2 pydantic-2.9.2 pydantic-core-2.23.4 pyjwt-2.8.0 zhipuai-2.1.5.20230904\n",
      "Note: you may need to restart the kernel to use updated packages.\n"
     ]
    }
   ],
   "source": [
    "pip install zhipuai"
   ]
  },
  {
   "cell_type": "code",
   "execution_count": 8,
   "id": "ded565f8-a1b8-457c-9468-dd4ba84b8b60",
   "metadata": {},
   "outputs": [],
   "source": [
    "import os\n",
    "from dotenv import load_dotenv, find_dotenv\n",
    "from zhipuai import ZhipuAI"
   ]
  },
  {
   "cell_type": "code",
   "execution_count": 12,
   "id": "302957e6-90a0-4a4b-8b32-a182986fc387",
   "metadata": {},
   "outputs": [],
   "source": [
    "# 加载环境变量中的API密钥\n",
    "_ = load_dotenv(find_dotenv())\n",
    "api_key = os.environ.get(\"2e89b288a65e674c394e20535a08d1b1.hQiXuznqbmmLkaFI\")\n",
    "\n",
    "# 创建ZhipuAI客户端实例\n",
    "client = ZhipuAI(api_key=\"2e89b299d65e674c394e20535a08d1b1.hQiXuznqbmmLkaFI\")\n",
    "\n",
    "# 定义视频理解的函数\n",
    "def video_understanding(video_url):\n",
    "    # 调用智谱AI的视频理解API\n",
    "    response = client.videos.understand(video_url=video_url)\n",
    "    return response"
   ]
  },
  {
   "cell_type": "code",
   "execution_count": 13,
   "id": "cc164793-82a6-4658-901b-635fb5fcfc7e",
   "metadata": {},
   "outputs": [
    {
     "data": {
      "text/plain": [
       "'C:\\\\Users\\\\Administrator\\\\Desktop\\\\torch实战作业与作业提示'"
      ]
     },
     "execution_count": 13,
     "metadata": {},
     "output_type": "execute_result"
    }
   ],
   "source": [
    "pwd"
   ]
  },
  {
   "cell_type": "code",
   "execution_count": 27,
   "id": "dbbb4650-c502-4d60-bfd4-9cb9eca81d6a",
   "metadata": {},
   "outputs": [
    {
     "name": "stdout",
     "output_type": "stream",
     "text": [
      "Requirement already satisfied: zhipuai in c:\\programdata\\anaconda3\\lib\\site-packages (2.1.5.20230904)\n",
      "Requirement already satisfied: cachetools>=4.2.2 in c:\\programdata\\anaconda3\\lib\\site-packages (from zhipuai) (5.5.0)\n",
      "Requirement already satisfied: httpx>=0.23.0 in c:\\programdata\\anaconda3\\lib\\site-packages (from zhipuai) (0.27.2)\n",
      "Requirement already satisfied: pydantic-core>=2.14.6 in c:\\programdata\\anaconda3\\lib\\site-packages (from zhipuai) (2.23.4)\n",
      "Requirement already satisfied: pydantic<3.0,>=1.9.0 in c:\\programdata\\anaconda3\\lib\\site-packages (from zhipuai) (2.9.2)\n",
      "Requirement already satisfied: pyjwt<2.9.0,>=2.8.0 in c:\\programdata\\anaconda3\\lib\\site-packages (from zhipuai) (2.8.0)\n",
      "Requirement already satisfied: certifi in c:\\programdata\\anaconda3\\lib\\site-packages (from httpx>=0.23.0->zhipuai) (2022.9.14)\n",
      "Requirement already satisfied: idna in c:\\programdata\\anaconda3\\lib\\site-packages (from httpx>=0.23.0->zhipuai) (3.3)\n",
      "Requirement already satisfied: anyio in c:\\programdata\\anaconda3\\lib\\site-packages (from httpx>=0.23.0->zhipuai) (3.5.0)\n",
      "Requirement already satisfied: httpcore==1.* in c:\\programdata\\anaconda3\\lib\\site-packages (from httpx>=0.23.0->zhipuai) (1.0.7)\n",
      "Requirement already satisfied: sniffio in c:\\programdata\\anaconda3\\lib\\site-packages (from httpx>=0.23.0->zhipuai) (1.2.0)\n",
      "Requirement already satisfied: h11<0.15,>=0.13 in c:\\programdata\\anaconda3\\lib\\site-packages (from httpcore==1.*->httpx>=0.23.0->zhipuai) (0.14.0)\n",
      "Requirement already satisfied: typing-extensions>=4.6.1 in c:\\programdata\\anaconda3\\lib\\site-packages (from pydantic<3.0,>=1.9.0->zhipuai) (4.12.2)\n",
      "Requirement already satisfied: annotated-types>=0.6.0 in c:\\programdata\\anaconda3\\lib\\site-packages (from pydantic<3.0,>=1.9.0->zhipuai) (0.7.0)\n",
      "Note: you may need to restart the kernel to use updated packages.\n"
     ]
    }
   ],
   "source": [
    "pip install zhipuai"
   ]
  },
  {
   "cell_type": "code",
   "execution_count": 29,
   "id": "2dcca701-097e-4337-9164-34f67f22844e",
   "metadata": {},
   "outputs": [
    {
     "name": "stdout",
     "output_type": "stream",
     "text": [
      "Requirement already satisfied: requests in c:\\programdata\\anaconda3\\lib\\site-packages (2.28.1)\n",
      "Requirement already satisfied: urllib3<1.27,>=1.21.1 in c:\\programdata\\anaconda3\\lib\\site-packages (from requests) (1.26.11)\n",
      "Requirement already satisfied: charset-normalizer<3,>=2 in c:\\programdata\\anaconda3\\lib\\site-packages (from requests) (2.0.4)\n",
      "Requirement already satisfied: certifi>=2017.4.17 in c:\\programdata\\anaconda3\\lib\\site-packages (from requests) (2022.9.14)\n",
      "Requirement already satisfied: idna<4,>=2.5 in c:\\programdata\\anaconda3\\lib\\site-packages (from requests) (3.3)\n",
      "Note: you may need to restart the kernel to use updated packages.\n"
     ]
    }
   ],
   "source": [
    "pip install requests"
   ]
  },
  {
   "cell_type": "code",
   "execution_count": 35,
   "id": "5333fabe-2c9c-4852-992f-704e86d2734f",
   "metadata": {},
   "outputs": [
    {
     "name": "stdout",
     "output_type": "stream",
     "text": [
      "通常来说，视频理解的响应时间较长，需要等待数十秒......\n",
      "CompletionMessage(content='好的,让我来给你讲一下这个小猫的故事。\\n\\n这个小猫正在一条小路上走着,它看起来非常可爱。它的毛色是白色和棕色的混合,有着一双明亮的大眼睛。它正在向前走,似乎对周围的世界充满了好奇。\\n\\n突然间,小猫停了下来,它的耳朵竖了起来,好像听到了什么声音。它向左看去,然后又向右看去,好像在寻找那个声音的来源。最后,它决定继续向前走,但是它的步伐变得更加轻盈了。\\n\\n在小路的尽头,有一棵大树,树上的叶子在微风中轻轻摇曳。小猫走到了树下,开始玩耍起来。它在树枝上跳来跳去,像一只小猴子一样灵活。有时候它会不小心掉下来,但它很快就爬回了树上。\\n\\n过了一会儿,小猫感到有些累了,于是它回到了小路上。它继续向前走,一边欣赏着周围的风景。有时候它会停下来,看看路边的花朵或者听听鸟儿的歌唱。\\n\\n最终,小猫来到了一个美丽的花园。花园里有很多五颜六色的花朵,还有一个小池塘。小猫非常喜欢这里,它开始在花园里探索。它在花丛中穿梭,追逐着蝴蝶和蜜蜂。有时候它会不小心踩到一朵花,但它很快就会道歉并小心翼翼地绕过去。\\n\\n这就是这个小猫的故事。它是一只充满活力和好奇心的小动物,总是充满着对世界的热爱和探索精神。希望你能喜欢这个故事!', role='assistant', tool_calls=None)\n"
     ]
    }
   ],
   "source": [
    "# 设置视频文件的路径\n",
    "video_path = \"video1.mp4\"\n",
    "\n",
    "# 以“二进制读”模式打开视频文件\n",
    "with open(r\"C:\\Users\\Administrator\\Desktop\\torch实战作业与作业提示\\video1.mp4\", 'rb') as video_file:\n",
    "    video_base = base64.b64encode(video_file.read()).decode('utf-8')  # 把视频文件编码成智谱支持的video_base64\n",
    "\n",
    "print(\"通常来说，视频理解的响应时间较长，需要等待数十秒......\")\n",
    "# 假设 client 已经被正确实例化，并且有一个 chat.completions.create 方法\n",
    "response = client.chat.completions.create(\n",
    "    model=\"glm-4v-plus\",  # 设置智谱具体大模型，glm-4v-plus支持视频理解\n",
    "    temperature=0.0,  # 设置温度参数，控制生成文本的随机性，0.0表示不随机，输出最可能的文本\n",
    "    top_p=0,  # 设置top_p参数，控制生成文本的多样性，0表示不使用此参数\n",
    "    messages=[{  # 设置消息列表\n",
    "        \"role\": \"user\",  # 指定消息的角色为用户\n",
    "        \"content\": [  # 定义消息内容列表\n",
    "            {\n",
    "                \"type\": \"video_url\",  # 设置视频链接\n",
    "                \"video_url\": {\"url\": video_base}  # 将编码后的视频以base64字符串形式作为链接\n",
    "            },\n",
    "            {\n",
    "                \"type\": \"text\",  # 设置提问/提示词类型为文本\n",
    "                \"text\": \"请仔细描述这个视频的环境，图中的小猫在干啥，以有趣的方式讲给我听\"  # 设置提问/提示词\n",
    "            }\n",
    "        ]\n",
    "    }]\n",
    ")\n",
    "\n",
    "# 输出回答\n",
    "print(response.choices[0].message)  # 输出回答列表中的第一个选项中的消息"
   ]
  },
  {
   "cell_type": "code",
   "execution_count": null,
   "id": "c925fc01-afb6-42cc-9da0-7facd29fe3ca",
   "metadata": {},
   "outputs": [],
   "source": []
  },
  {
   "cell_type": "code",
   "execution_count": null,
   "id": "e4533c47-1e46-4479-b748-81e3f7f9041e",
   "metadata": {},
   "outputs": [],
   "source": []
  }
 ],
 "metadata": {
  "kernelspec": {
   "display_name": "Python 3 (ipykernel)",
   "language": "python",
   "name": "python3"
  },
  "language_info": {
   "codemirror_mode": {
    "name": "ipython",
    "version": 3
   },
   "file_extension": ".py",
   "mimetype": "text/x-python",
   "name": "python",
   "nbconvert_exporter": "python",
   "pygments_lexer": "ipython3",
   "version": "3.9.13"
  }
 },
 "nbformat": 4,
 "nbformat_minor": 5
}

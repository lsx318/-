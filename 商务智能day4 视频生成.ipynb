{
 "cells": [
  {
   "cell_type": "code",
   "execution_count": 4,
   "id": "7c2ef0d4-4a79-45f9-a38a-a199fb19be0a",
   "metadata": {},
   "outputs": [
    {
     "name": "stdout",
     "output_type": "stream",
     "text": [
      "VideoObject(id='893917320703675209216576918045506896', model='cogvideox', video_result=None, task_status='PROCESSING', request_id='9216576918045506894')\n"
     ]
    }
   ],
   "source": [
    "from zhipuai import ZhipuAI\n",
    "\n",
    "client = ZhipuAI(api_key=\"2e89b299d65e674c394e20535a08d1b1.hQiXuznqbmmLkaFI\")  # 请填写自己的API Key\n",
    "\n",
    "# 假设 video 是 ZhipuAI 类的一个方法，而不是 video1\n",
    "response = client.videos.generations(\n",
    "    model=\"cogvideox\", \n",
    "    prompt=\"cat\"\n",
    "    \n",
    ")\n",
    "print(response)"
   ]
  },
  {
   "cell_type": "code",
   "execution_count": 6,
   "id": "7beb73d7-5df5-4375-9ca8-68cac53dd5c4",
   "metadata": {},
   "outputs": [
    {
     "name": "stdout",
     "output_type": "stream",
     "text": [
      "VideoObject(id=None, model='cogvideox', video_result=[VideoResult(url='https://aigc-files.bigmodel.cn/api/cogvideo/c61e4606-a7bd-11ef-bd78-9ee7942420ea_0.mp4', cover_image_url='https://aigc-files.bigmodel.cn/api/cogvideo/c61e4606-a7bd-11ef-bd78-9ee7942420ea_cover_0.jpeg')], task_status='SUCCESS', request_id='9216576918045506894')\n"
     ]
    }
   ],
   "source": [
    "from zhipuai import ZhipuAI\n",
    "client = ZhipuAI(api_key=\"2e89b299d65e674c394e20535a08d1b1.hQiXuznqbmmLkaFI\")  # 请填写自己的API Key\n",
    "response = client.videos.retrieve_videos_result(\n",
    "    id=\"893917320703675209216576918045506896\"\n",
    ")\n",
    "print(response)"
   ]
  },
  {
   "cell_type": "code",
   "execution_count": null,
   "id": "da975272-a128-4589-abe4-5804ca1acc2d",
   "metadata": {},
   "outputs": [],
   "source": []
  },
  {
   "cell_type": "code",
   "execution_count": 1,
   "id": "6227c24b-7acc-4cc7-b044-8132da39c3e1",
   "metadata": {},
   "outputs": [
    {
     "name": "stdout",
     "output_type": "stream",
     "text": [
      "VideoObject(id='893917320703675209216580491459139040', model='cogvideox', video_result=None, task_status='PROCESSING', request_id='9216580491459139039')\n"
     ]
    }
   ],
   "source": [
    "from zhipuai import ZhipuAI\n",
    "\n",
    "client = ZhipuAI(api_key=\"2e89b299d65e674c394e20535a08d1b1.hQiXuznqbmmLkaFI\")  # 请填写自己的API Key\n",
    "\n",
    "# 假设 video 是 ZhipuAI 类的一个方法，而不是 video1\n",
    "response = client.videos.generations(\n",
    "    model=\"cogvideox\",\n",
    "    image_url='https://b0.bdstatic.com/ugc/it30MT0VNie6-H25T5ynMwb0abc9dc94a783860b30f32fd38e7a78.jpg',\n",
    "    \n",
    "    prompt=\"一只毛色鲜亮的猫（主体），它优雅地蹲坐在翠绿的草地上（环境描述），阳光洒在它的皮毛上，使得每一根毛发都闪耀着金色的光泽。它的眼睛警觉而好奇，直视前方，透露出一丝野性的魅力。在它的周围，几朵野花随风轻轻摇曳，为这幅宁静的画面增添了一抹生动的色彩（动作）\"\n",
    "    \n",
    ")\n",
    "print(response)"
   ]
  },
  {
   "cell_type": "code",
   "execution_count": 3,
   "id": "720f0fb9-806d-4085-8f82-74706622ee6f",
   "metadata": {},
   "outputs": [
    {
     "name": "stdout",
     "output_type": "stream",
     "text": [
      "VideoObject(id=None, model='cogvideox', video_result=[VideoResult(url='https://aigc-files.bigmodel.cn/api/cogvideo/8bb2105c-a7b2-11ef-98ac-fe65eda1aa82_0.mp4', cover_image_url='https://aigc-files.bigmodel.cn/api/cogvideo/8bb2105c-a7b2-11ef-98ac-fe65eda1aa82_cover_0.jpeg')], task_status='SUCCESS', request_id='9216580491459139039')\n"
     ]
    }
   ],
   "source": [
    "from zhipuai import ZhipuAI\n",
    "client = ZhipuAI(api_key=\"2e89b299d65e674c394e20535a08d1b1.hQiXuznqbmmLkaFI\")  # 请填写自己的API Key\n",
    "\n",
    "response = client.videos.retrieve_videos_result(\n",
    "    id=\"893917320703675209216580491459139040\"\n",
    ")\n",
    "print(response)"
   ]
  },
  {
   "cell_type": "code",
   "execution_count": 45,
   "id": "de609ec9-664a-4d4f-a513-db9947b73911",
   "metadata": {},
   "outputs": [
    {
     "name": "stdout",
     "output_type": "stream",
     "text": [
      "VideoObject(id='893917320703675209216580285300510246', model='cogvideox', video_result=None, task_status='PROCESSING', request_id='9216580285300510245')\n",
      "VideoObject(id=None, model='cogvideox', video_result=[VideoResult(url='https://aigc-files.bigmodel.cn/api/cogvideo/2dd8c636-a7aa-11ef-bd78-9ee7942420ea_0.mp4', cover_image_url='https://aigc-files.bigmodel.cn/api/cogvideo/2dd8c636-a7aa-11ef-bd78-9ee7942420ea_cover_0.jpeg')], task_status='SUCCESS', request_id='9216580594538376818')\n"
     ]
    }
   ],
   "source": [
    "#优化\n",
    "from zhipuai import ZhipuAI\n",
    "\n",
    "# 请填写自己的API Key\n",
    "client = ZhipuAI(api_key=\"2e89b299d65e674c394e20535a08d1b1.hQiXuznqbmmLkaFI\")\n",
    "\n",
    "# 使用更详细的提示词来生成视频\n",
    "response = client.videos.generations(\n",
    "    model=\"cogvideox\",  # 如果有其他模型提供更高清晰度，可以尝试更换模型\n",
    "    prompt=\"anime\",\n",
    "    # 如果API支持，可以添加分辨率参数\n",
    "    # 其他可能提高清晰度的参数\n",
    ")\n",
    "\n",
    "print(response)\n",
    "\n",
    "# 检索视频结果\n",
    "response = client.videos.retrieve_videos_result(\n",
    "    id=\"893917320703675209216580594538376819\"  # 假设这是之前生成视频的ID\n",
    ")\n",
    "print(response)"
   ]
  },
  {
   "cell_type": "code",
   "execution_count": null,
   "id": "4f9dcada-e4f0-484b-9f3b-488e2a9c77ff",
   "metadata": {},
   "outputs": [],
   "source": []
  },
  {
   "cell_type": "code",
   "execution_count": null,
   "id": "dbbb9984-99ca-4eea-a431-9ab0e8078026",
   "metadata": {},
   "outputs": [],
   "source": []
  }
 ],
 "metadata": {
  "kernelspec": {
   "display_name": "Python 3 (ipykernel)",
   "language": "python",
   "name": "python3"
  },
  "language_info": {
   "codemirror_mode": {
    "name": "ipython",
    "version": 3
   },
   "file_extension": ".py",
   "mimetype": "text/x-python",
   "name": "python",
   "nbconvert_exporter": "python",
   "pygments_lexer": "ipython3",
   "version": "3.9.13"
  }
 },
 "nbformat": 4,
 "nbformat_minor": 5
}
